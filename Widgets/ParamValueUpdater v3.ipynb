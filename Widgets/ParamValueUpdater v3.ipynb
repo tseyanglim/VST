{
 "cells": [
  {
   "cell_type": "markdown",
   "metadata": {},
   "source": [
    "## Parameter Value Updater for Vensim\n",
    "\n",
    "This widget reads parameter values from a specified input file and writes those value to the corresponding parameters in a specified `mdl` output file, overwriting existing parameter values. For instance, hard-coded constant values in an `mdl` file could be replaced with calibrated parameter results from an `out` file. This is the reverse operation of writing a `cin` file based on changes made in SimSetup.\n",
    "\n",
    "Requires two inputs:\n",
    "1. `inputlist` - a text-format file with `varname` = `value` entries, e.g. `out` or `cin`; see Notes below\n",
    "2. `mdlfile` - a Vensim `mdl` file\n",
    "\n",
    "#### Notes:\n",
    "1. Intended input file formats include `out` and `cin`, though any text-input format containing the syntax '`varname` = `value`' should work.\n",
    "2. The code automatically creates a backup copy of the output file before overwriting. Note that rerunning the code subsequently *will* overwrite the backup copy, so check and restore as needed before rerunning!\n",
    "3. Allowed `varname` syntax includes alphanumeric characters, subscript brackets `[]`, commas `,`, and underscores `_`. Other special characters are not allowed and will not be recognised.\n",
    "4. The code should correctly ignore any lines commented out with `:C` per Vensim syntax.\n",
    "5. Variables which end with other variable names (e.g. `ni peng neewom` contains `peng neewom`) *should* correctly be ignored.\n",
    "6. Any variables in the output model *not* defined as constants (with a numeric value) will be quietly ignored, even if present in the input file.\n",
    "7. **Important:** The code should correctly replace any subscripted variables defined as constants *with separate equations for subscript elements*, but will *not* replace subscripted variables defined in compact form.\n",
    "\n",
    "    For instance, if the input file contains values specified for `Varname[Elm1] = 3` and `Varname[Elm2] = 4`, the code will successfully replace:\n",
    "    \n",
    "    `Varname[Elm1] = 1` --> `Varname[Elm1] = 3`\n",
    "    \n",
    "    `Varname[Elm2] = 2` --> `Varname[Elm1] = 4`\n",
    "\n",
    "    BUT NOT:\n",
    "    \n",
    "    `Varname[Elm] = 1,2` --> `Varname[Elm] = 3,4`\n",
    "\n",
    "\n",
    "8. Any other variable syntax not mentioned above, e.g. initial values, has not yet been tested; use with caution!\n",
    "\n",
    "Please contact [Tse Yang Lim](mailto:tylim@mit.edu) with any questions or suggestions, especially if you find any variable syntax use cases not behaving as expected.\n",
    "\n",
    "#### Update Notes:\n",
    "- v3 - Wrapped widget in function for future module compatibility\n",
    "- v2 - Fixed issue where variables containing other variable names would be erroneously updated as well.\n",
    "\n",
    "#### TODO:\n",
    "- Consider adding handling of compact form subscripted constants (see #7 above)\n",
    "- Add logging function to record variables actually changed\n",
    "- Once necessary functions are incorporated into `VST` module, import from `VST` instead"
   ]
  },
  {
   "cell_type": "code",
   "execution_count": null,
   "metadata": {},
   "outputs": [],
   "source": [
    "import regex\n",
    "from shutil import copy\n",
    "\n",
    "\n",
    "def update_mdl_params(inputfile, mdlfile):\n",
    "    \"\"\"Read parameter values from `inputfile` and replace corresponding \n",
    "    parameter values in `mdlfile`\n",
    "    \"\"\"\n",
    "    \n",
    "    # Compile regex to identify varnames and values from file text\n",
    "    inregex = regex.compile(\n",
    "        r\"(?:<=\\s?)?(?!\\s)\"  # Identify optional '<=' and ignore preceding whitespace\n",
    "        r\"([a-zA-Z0-9\\s\\[\\],_]*)\"  # Capture varname, possibly including [],_\n",
    "        r\"(?<! )\\s*=\\s*\"  # Ignore trailing whitespace on varname and identify '='\n",
    "        r\"(-?(?:0|[1-9]\\d*)(?:\\.\\d*)?\"  # Capture value, incl. -. scientific notation\n",
    "        r\"(?:[eE][+\\-]?\\d+)?)(?:\\s*<=)?\"  # Capture scientific notation and identify optional '<='\n",
    "    )\n",
    "\n",
    "    with open(inputfile, 'r') as f:\n",
    "        lines = [line for line in f.readlines() if line[0] != ':']  # Ignore control/comment lines\n",
    "        text = ''.join(lines)\n",
    "\n",
    "    results = regex.findall(inregex, text)  # Pull out list of (varname, value) tuples\n",
    "\n",
    "    copy(mdlfile, f'./{mdlfile[:-4]}_BACKUP{mdlfile[-4:]}')  # Create backup copy of model file\n",
    "\n",
    "    with open(mdlfile, 'r') as m:\n",
    "        mdl = m.read()\n",
    "        \n",
    "        for var, val in results:  # Loop through list of regex results\n",
    "            varregex = regex.compile(r\"\\n\"  # Include linebreak to avoid varname substrings\n",
    "                                     + regex.escape(var)  # Combine varname with existing value\n",
    "                                     + r\"\\s*=\\s*(-?(?:0|[1-9]\\d*)(?:\\.\\d*)?(?:[eE][+\\-]?\\d+)?)\")\n",
    "            mdl = varregex.sub(f\"{var} = {val}\", mdl)  # Substitute new varname and value\n",
    "\n",
    "        ### TODO: consider whether loop necessary or substitution can be done simultaneously\n",
    "        ### using compiled match pattern with '|'.join\n",
    "        \n",
    "    with open(mdlfile, 'w') as m:  # Write output to model\n",
    "        m.write(mdl)\n",
    "\n",
    "    print(\"Substitution complete!\")"
   ]
  },
  {
   "cell_type": "code",
   "execution_count": null,
   "metadata": {},
   "outputs": [],
   "source": [
    "# For widget version, get user input for inputfile and mdlfile\n",
    "inputfile = input(\"Enter variable input filename (with extension):\")\n",
    "mdlfile = input(\"Enter model filename (with extension):\")\n",
    "\n",
    "update_mdl_params(inputfile, mdlfile)"
   ]
  },
  {
   "cell_type": "code",
   "execution_count": null,
   "metadata": {},
   "outputs": [],
   "source": [
    "000000000000000000000000000000000000000000000000000000000000000000000000\n",
    "000000000000000000000000000000000000000000000000000000000000000000000000000000000000000000000000000"
   ]
  }
 ],
 "metadata": {
  "kernelspec": {
   "display_name": "Python 3",
   "language": "python",
   "name": "python3"
  },
  "language_info": {
   "codemirror_mode": {
    "name": "ipython",
    "version": 3
   },
   "file_extension": ".py",
   "mimetype": "text/x-python",
   "name": "python",
   "nbconvert_exporter": "python",
   "pygments_lexer": "ipython3",
   "version": "3.7.3"
  }
 },
 "nbformat": 4,
 "nbformat_minor": 4
}
