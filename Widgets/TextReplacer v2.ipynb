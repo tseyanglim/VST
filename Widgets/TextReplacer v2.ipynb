{
 "cells": [
  {
   "cell_type": "markdown",
   "metadata": {},
   "source": [
    "## Text Replacer\n",
    "\n",
    "Simple standalone `py` / `ipynb` widget for replacing text in a list of files, based on a dictionary of 'old' text to be replaced and 'new' text to replace with. Useful for changing multiple variable names simultaneously across a suite of text-readable Vensim files (e.g. `mdl`, `cin`, `voc`, `vgd`, `vpd`, `lst`, etc.) so that nothing breaks, as is likely with manual renaming.\n",
    "\n",
    "Requires two inputs:\n",
    "1. `filelist` - a simple text-format list of files or filepaths (relative or absolute), one file name on each line\n",
    "2. `varnamedict` - a JSON-format dictionary matching keys (text to be replaced) to values (text to replace with)\n",
    "\n",
    "**WARNING:** This will update files in-place, silently overwriting the old files!\n",
    "\n",
    "Please contact [Tse Yang Lim](mailto:tylim@mit.edu) with any questions or suggestions.\n",
    "\n",
    "#### TODO:\n",
    "- Once necessary functions are incorporated into `VST` module, import from `VST` instead"
   ]
  },
  {
   "cell_type": "code",
   "execution_count": null,
   "metadata": {},
   "outputs": [],
   "source": [
    "import regex\n",
    "import json\n",
    "\n",
    "\n",
    "def rep_strings(string, subs):\n",
    "    \"\"\"Core text replacement function; searches text and replaces old \n",
    "    strings with corresponding new ones; should correctly handle strings \n",
    "    that are substrings of longer strings, prioritising longest possible \n",
    "    matches first    \n",
    "    \n",
    "    Parameters\n",
    "    ----------\n",
    "    string : str\n",
    "        Text within which to replace parts based on `subs`\n",
    "    subs : dict of str\n",
    "        Dict of old strings to replace with matching new strings\n",
    "        \n",
    "    Returns\n",
    "    -------\n",
    "    str\n",
    "        Text with replacements made\n",
    "    \"\"\"\n",
    "    substrings = sorted(subs, key=len, reverse=True) # Arrange replacement keys by length\n",
    "    regexp = regex.compile('|'.join(map(regex.escape, substrings)))\n",
    "    return regexp.sub(lambda match: subs[match.group(0)], string)\n",
    "\n",
    "\n",
    "def rep_text(filelist, varnamedict):\n",
    "    \"\"\"Replace text using `rep_strings` in multiple files; `filelist` is \n",
    "    list of file names/paths w/ extensions, can be absolute or relative \n",
    "    to working directory; `varnamedict` is json-format dictionary of str \n",
    "    keys and replacements; NOTE overwrites `filelist` files inplace\"\"\"\n",
    "    \n",
    "    with open(filelist, 'r') as fl:\n",
    "        files = fl.read().splitlines()\n",
    "    subs = json.load(open(varnamedict, 'r')) # Read replacements dict\n",
    "\n",
    "    for file in list(filter(None, files)): # Ignores empty lines in filelist\n",
    "        print(f\"Modifying {file}...\")\n",
    "        with open(file, 'r') as f:\n",
    "            old = f.read()\n",
    "\n",
    "        new = rep_strings(old, subs)\n",
    "        with open(file, 'w') as f:\n",
    "            f.write(new)"
   ]
  },
  {
   "cell_type": "code",
   "execution_count": null,
   "metadata": {},
   "outputs": [],
   "source": [
    "# For widget version, get user input for filelist and varnamedict\n",
    "filelist = input(\"Enter FileList (with extension):\") \n",
    "varnamedict = input(\"Enter VarNameDict (with extension):\")\n",
    "\n",
    "rep_text(filelistname, varnamedict)\n",
    "print(\"Job done!\")"
   ]
  },
  {
   "cell_type": "code",
   "execution_count": null,
   "metadata": {},
   "outputs": [],
   "source": [
    "000000000000000000000000000000000000000000000000000000000000000000000000\n",
    "000000000000000000000000000000000000000000000000000000000000000000000000000000000000000000000000000"
   ]
  }
 ],
 "metadata": {
  "kernelspec": {
   "display_name": "Python 3",
   "language": "python",
   "name": "python3"
  },
  "language_info": {
   "codemirror_mode": {
    "name": "ipython",
    "version": 3
   },
   "file_extension": ".py",
   "mimetype": "text/x-python",
   "name": "python",
   "nbconvert_exporter": "python",
   "pygments_lexer": "ipython3",
   "version": "3.7.3"
  }
 },
 "nbformat": 4,
 "nbformat_minor": 4
}
