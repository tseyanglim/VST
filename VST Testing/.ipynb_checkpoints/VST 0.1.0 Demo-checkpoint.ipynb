{
 "cells": [
  {
   "cell_type": "markdown",
   "id": "4fbb8b9b-5828-48e9-9500-9b96dc2fd403",
   "metadata": {},
   "source": [
    "## VST Demo\n",
    "\n",
    "This notebook showcases `vst` version `0.1.0` with updated functions and syntax to demonstrate a basic but complete model analysis workflow, using a simple toy model:\n",
    "1. Partial model calibrations using variant model files (generation of these is manual for now but could easily be automated)\n",
    "2. Full model calibration, building on the results of previous partial calibrations\n",
    "3. Calibration with MCMC to derive a sample of posterior parameter estimates\n",
    "4. Semi-automated generation of additional files to run projections\n",
    "5. Basic projections + parametric sensitivity (for uncertainty intervals) based on calibrated parameter estimates\n",
    "6. Projections for policy analysis + sensitivity analysis\n",
    "\n",
    "At the moment this notebook relies on simple import of `vst.py` (and by extension `vst_text.py`); proper module packaging will occur eventually. For documentation on the `vst` code, objects, and functions, see the `.py` file or `.ipynb` notebooks.\n",
    "\n",
    "**NOTE:** this version of `vst` is *not* backward-compatible with existing scripts: 1) `Script` objects and use syntax have been substantially modified, and 2) newest Vengine no longer has the expiration popup to bypass, so `press` lines are no longer needed and have been removed."
   ]
  },
  {
   "cell_type": "code",
   "execution_count": null,
   "id": "1e4c8afd-81c0-44fd-ab98-18fd01424107",
   "metadata": {},
   "outputs": [],
   "source": [
    "from vst import *"
   ]
  },
  {
   "cell_type": "code",
   "execution_count": null,
   "id": "5808fb34-1dc8-4a56-a273-2d0097a899ac",
   "metadata": {},
   "outputs": [],
   "source": [
    "# Set up control file (this could be done through an external file read in as JSON)\n",
    "\n",
    "# Global control inputs\n",
    "timelimit = 60\n",
    "vgpath = \"C:/Program Files/Vengine/Vengine.exe\"  # Change this to your Vengine file path!\n",
    "vspath = \"C:/Program Files/Vensim/vendss64.exe\"  # Change this to your Vensim file path!\n",
    "samplefrac = 0.05\n",
    "\n",
    "# Controlfile inputs\n",
    "cf = {\n",
    "    'basename': 'Test', \n",
    "    'simcontrol': {\n",
    "        \"model\": \"prey-predator.mdl\", \n",
    "        \"data\": [\n",
    "            \"hudson-bay-lynx-hare.vdf\"\n",
    "            ], \n",
    "        \"payoff\": \"prey-predator.vpd\", \n",
    "        \"sensitivity\": \"\", \n",
    "        \"optparm\": \"prey-predator.voc\", \n",
    "        \"changes\": [], \n",
    "        \"savelist\": \"\", \n",
    "        \"senssavelist\": \"PrPrSave.lst\"\n",
    "    }, \n",
    "    'runcmd': '', \n",
    "    'savecmd': ''    \n",
    "}"
   ]
  },
  {
   "cell_type": "code",
   "execution_count": null,
   "id": "ac5cf5ed-ff2e-4423-a780-b5cdcc40c5ae",
   "metadata": {},
   "outputs": [],
   "source": [
    "# Create logfile\n",
    "log = f\"{os.getcwd()}/log.txt\"\n",
    "\n",
    "# Start with partial model calibration of just prey-side parameters\n",
    "prey = Script(cf, \"hare\", log, sfxs={'optparm': '_h', 'payoff': '_h'})\n",
    "prey.compile_script(vgpath, log, subdir='Hare')  # Run this in subdirectory 'Hare'\n",
    "\n",
    "# Continue with partial model calibration of just predator-side parameters\n",
    "pred = Script(cf, \"lynx\", log, sfxs={'optparm': '_l', 'payoff': '_l'}, chglist=[('hare', '')])\n",
    "pred.compile_script(vgpath, log, subdir='Lynx')  # Run this in subdirectory 'Lynx'\n",
    "\n",
    "# Then do a calibration of the full model with all params\n",
    "# Note use of chglist to read in previous .out files\n",
    "both = Script(cf, \"fullopt\", log, chglist=[(['hare', 'lynx'], '')])\n",
    "both.compile_script(vgpath, log, subdir='Full')\n",
    "\n",
    "# Then run MCMC, reading in full optimisation results\n",
    "mcmc = Script(cf, \"fullMC\", log, sfxs={'optparm': '_m'}, chglist=[('full', 'opt')])\n",
    "mcmc.compile_script(vgpath, log, subdir='Full')\n",
    "\n",
    "mcmc.downsample(samplefrac)  # Downsample MCMC result to get input for sensitivity"
   ]
  },
  {
   "cell_type": "code",
   "execution_count": null,
   "id": "8f2066a4-1b65-4577-aedc-940590fc8f9e",
   "metadata": {},
   "outputs": [],
   "source": [
    "# Set up alternate control file for sensitivity runs\n",
    "senscf = cf.copy()\n",
    "senscf['simcontrol']['sensitivity'] = f\"{mcmc.runname}.vsc\"  # Sensitivity control file\n",
    "senscf['savecmd'] = 'SENS2FILE|!|!|T'  # Save full sensitivity output in Tidy format\n",
    "\n",
    "# Create CIN file for projections, extending final time by 10\n",
    "finaltime = get_value(cf['simcontrol']['model'], 'FINAL TIME')  # Dynamically read in final time\n",
    "with open('Projection.cin', 'w') as f:\n",
    "    f.write(f\"FINAL TIME = {finaltime + 10}\")  # Extend by 10 units for projections\n"
   ]
  },
  {
   "cell_type": "code",
   "execution_count": null,
   "id": "c4e53d42-d804-4b12-8487-606d20ef0aac",
   "metadata": {},
   "outputs": [],
   "source": [
    "# Do a simple projection using estimated parameters\n",
    "proj = Script(cf, \"projbase\", log, chglist=[('full', 'opt'), 'Projection.cin'], simtype='r')\n",
    "# Note use of Vensim rather than Vengine for simple run; in practice could use either\n",
    "proj.compile_script(vspath, log, subdir='Projections', vengine=False, check_funcs=[check_output])\n",
    "\n",
    "# Then a sensitivity analysis using previous MCMC subsample\n",
    "sens = Script(senscf, \"sensbase\", log, chglist=[('full', 'opt'), 'Projection.cin'], simtype='s')\n",
    "sens.compile_script(vgpath, log, subdir='Projections', timelimit=300, check_funcs=[check_output])\n",
    "\n",
    "# Then read in a 'Hunting' policy scenario and project effects\n",
    "hunt = Script(cf, \"projhunt\", log, chglist=[('full', 'opt'), 'Projection.cin', 'Hunting.cin'], simtype='r')\n",
    "hunt.compile_script(vspath, log, subdir='Projections', vengine=False, check_funcs=[check_output])\n",
    "\n",
    "# And conduct sensitivity analysis on 'Hunting' scenario with MCMC subsample\n",
    "shunt = Script(senscf, \"senshunt\", log, chglist=[('full', 'opt'), 'Projection.cin', 'Hunting.cin'], simtype='s')\n",
    "shunt.compile_script(vgpath, log, subdir='Projections', timelimit=300, check_funcs=[check_output])\n"
   ]
  },
  {
   "cell_type": "code",
   "execution_count": null,
   "id": "75d1c89f-89e2-4dc6-b751-49fa903d733d",
   "metadata": {},
   "outputs": [],
   "source": [
    "000000000000000000000000000000000000000000000000000000000000000000000000\n",
    "000000000000000000000000000000000000000000000000000000000000000000000000000000000000000000000000000"
   ]
  }
 ],
 "metadata": {
  "kernelspec": {
   "display_name": "Python 3 (ipykernel)",
   "language": "python",
   "name": "python3"
  },
  "language_info": {
   "codemirror_mode": {
    "name": "ipython",
    "version": 3
   },
   "file_extension": ".py",
   "mimetype": "text/x-python",
   "name": "python",
   "nbconvert_exporter": "python",
   "pygments_lexer": "ipython3",
   "version": "3.8.13"
  },
  "widgets": {
   "application/vnd.jupyter.widget-state+json": {
    "state": {},
    "version_major": 2,
    "version_minor": 0
   }
  }
 },
 "nbformat": 4,
 "nbformat_minor": 5
}
