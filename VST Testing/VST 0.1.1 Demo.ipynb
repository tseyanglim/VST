{
 "cells": [
  {
   "cell_type": "markdown",
   "id": "4fbb8b9b-5828-48e9-9500-9b96dc2fd403",
   "metadata": {},
   "source": [
    "## VST Demo\n",
    "\n",
    "This notebook showcases `vst` version `0.1.1` with updated functions and syntax to demonstrate a basic but complete model analysis workflow, using a simple toy model:\n",
    "1. Partial model calibrations using variant model files (generation of these is manual for now but could easily be automated)\n",
    "2. Full model calibration, building on the results of previous partial calibrations\n",
    "3. Calibration with MCMC to derive a sample of posterior parameter estimates\n",
    "4. Semi-automated generation of additional files to run projections\n",
    "5. Basic projections + parametric sensitivity (for uncertainty intervals) based on calibrated parameter estimates\n",
    "6. Projections for policy analysis + sensitivity analysis\n",
    "\n",
    "At the moment this notebook relies on simple import of `vst.py` (and by extension `vst_text.py`); proper module packaging will occur eventually. For documentation on the `vst` code, objects, and functions, see the `.py` file or `.ipynb` notebooks.\n",
    "\n",
    "**NOTE:** this version of `vst` is *not* backward-compatible with existing scripts: 1) `Script` objects and use syntax have been substantially modified, and 2) newest Vengine no longer has the expiration popup to bypass, so `press` lines are no longer needed and have been removed."
   ]
  },
  {
   "cell_type": "markdown",
   "id": "28b01148-fb3d-4cc3-a8cb-16cd9c821221",
   "metadata": {},
   "source": [
    "#### 0. Set up necessary files\n",
    "Before starting, ensure that all files needed for this demo (included in the `VST Testing` folder) are in the same directory, along with this `ipynb` file. The demo will create multiple output and other files, so it is best to use a clean directory.\n",
    "\n",
    "##### 0.1 Import all `VST` classes and functions\n",
    "The `from <module> import *` syntax imports functions directly (without prefix); it is not generally recommended but is used here for simplicity."
   ]
  },
  {
   "cell_type": "code",
   "execution_count": null,
   "id": "1e4c8afd-81c0-44fd-ab98-18fd01424107",
   "metadata": {},
   "outputs": [],
   "source": [
    "from vst import *"
   ]
  },
  {
   "cell_type": "markdown",
   "id": "0cc439d3-5926-4464-a9ed-d30ae2f0e7fe",
   "metadata": {},
   "source": [
    "##### 0.2 Set up control file\n",
    "Each `Script` object reads in a `controlfile` from which it derives most of its command script settings. Technically, each `Script` instance can use a different `controlfile`, but in most cases `controlfile` fields are shared across most of any given model analysis workflow, so it is useful to define a 'primary' version and modify it as needed later in the workflow. This can be done inline at the head of a `ipynb` notebook, or separately to be read in as a JSON file.\n",
    "\n",
    "For details on each of these arguments, see the main `vst` notebook documentation.\n",
    "\n",
    "**NOTE:** Be sure to change `vgpath` and `vspath` as needed for your setup to avoid errors!"
   ]
  },
  {
   "cell_type": "code",
   "execution_count": null,
   "id": "5808fb34-1dc8-4a56-a273-2d0097a899ac",
   "metadata": {},
   "outputs": [],
   "source": [
    "# Global control inputs\n",
    "timelimit = 60  # Time limit for automatic checking/monitoring of runs\n",
    "vgpath = \"C:/Program Files/Vengine/Vengine.exe\"  # Change this to your Vengine file path!\n",
    "vspath = \"C:/Program Files/Vensim/vendss64.exe\"  # Change this to your Vensim file path!\n",
    "samplefrac = 0.05  # Fraction of MCMC sample to use for sensitivity analyses\n",
    "\n",
    "\n",
    "# Controlfile inputs\n",
    "cf = {\n",
    "    'basename': 'Test', \n",
    "    'simcontrol': {\n",
    "        \"model\": \"prey-predator.mdl\", \n",
    "        \"data\": [\n",
    "            \"hudson-bay-lynx-hare.vdf\"\n",
    "            ], \n",
    "        \"payoff\": \"prey-predator.vpd\", \n",
    "        \"sensitivity\": \"\", \n",
    "        \"optparm\": \"prey-predator.voc\", \n",
    "        \"changes\": [], \n",
    "        \"savelist\": \"\", \n",
    "        \"senssavelist\": \"PrPrSave.lst\"\n",
    "    }, \n",
    "    'runcmd': '', \n",
    "    'savecmd': ''    \n",
    "}\n",
    "\n",
    "# Create logfile\n",
    "log = f\"{os.getcwd()}/log.txt\""
   ]
  },
  {
   "cell_type": "markdown",
   "id": "a2b48929-5b40-4583-8579-2e8e9173ad70",
   "metadata": {},
   "source": [
    "#### 1. Run partial model calibrations\n",
    "`vst` is designed for easy setup of different workflows, such as hierarchical model estimation or iterative estimation of partial models.\n",
    "\n",
    "We demonstrate here using a simple pair of 'partial' model calibrations, using *only* prey-side *or* predator-side data to estimate the corresponding parameters, before combining the outputs of those partial model calibrations as a starting point for calibrating the full model. (Obviously, starting with partial calibrations is unnecessary for this simple model, but is done here for demonstration purposes.)\n",
    "\n",
    "##### 1.1 Partial model calibration of prey-side parameters\n",
    "Basic `Script` use syntax is:\n",
    "```\n",
    "x = Script(controlfile, name, logfile, sfxs=suffixes, chglist=changes)\n",
    "x.compile_script(logfile, **kwargs)\n",
    "```\n",
    "This will create an instance `x` of a `Script` object with the specified settings (detailed in `vst` documentation), compile it into a `cmd` file, and execute that `cmd` file in Vensim/Vengine to produce a Vensim run and output. \n",
    "\n",
    "By default, the `cmd` file and standard Vensim optimisation outputs, e.g. `vdf[x]` / `out` / `rep` files, should show up in your working directory; here the `subdir='Hare'` argument in the second line will instead place all working files in the specified subdirectory, copying only the `out` file to the main working directory. (This is useful for controlling file proliferation.) \n",
    "\n",
    "Note the use of the `sfxs` argument to specify alternate versions (designated with `_h` suffix) of the `voc` and `vpd` files. For this demo, these files have been created manually ahead of time; in a full automated workflow, they could be procedurally generated from base versions of those files."
   ]
  },
  {
   "cell_type": "code",
   "execution_count": null,
   "id": "0a8d3df0-2834-4432-84b5-3d7c02a39881",
   "metadata": {},
   "outputs": [],
   "source": [
    "# Start with partial model calibration of just prey-side parameters\n",
    "prey = Script(cf, \"hare\", log, sfxs={'optparm': '_h', 'payoff': '_h'})\n",
    "prey.compile_script(vgpath, log, subdir='Hare')  # Run this in subdirectory 'Hare'"
   ]
  },
  {
   "cell_type": "markdown",
   "id": "34ac307b-080f-4406-9886-286c7dc02b8f",
   "metadata": {},
   "source": [
    "##### 1.2 Partial model calibration of predator-side parameters\n",
    "Similar to the previous step, this will run a partial model calibration in a new subdirectory 'Lynx', using the alternate `_l` versions of `voc` and `vpd` files. Additionally, the `chglist` argument will read in the `out` file from the previous step (named `<basename>hare.out`) as an input into the calibration.\n",
    "\n",
    "(The exact syntax for `chglist` is powerful and flexible but somewhat complicated; don't worry about it for now, or read the documentation for details.)"
   ]
  },
  {
   "cell_type": "code",
   "execution_count": null,
   "id": "49a46895-6cf5-46a3-be14-0ea1029663e1",
   "metadata": {},
   "outputs": [],
   "source": [
    "# Continue with partial model calibration of just predator-side parameters\n",
    "pred = Script(cf, \"lynx\", log, sfxs={'optparm': '_l', 'payoff': '_l'}, chglist=[('hare', '')])\n",
    "pred.compile_script(vgpath, log, subdir='Lynx')  # Run this in subdirectory 'Lynx'"
   ]
  },
  {
   "cell_type": "markdown",
   "id": "9e0fb3de-c6f0-441e-a0ee-d86f450164bf",
   "metadata": {
    "tags": []
   },
   "source": [
    "#### 2. Run full model calibration\n",
    "Next we run a calibration of the full model in another subdirectory 'Full', this time using `chglist` to read in both previous outputs (`<basename>hare.out` and `<basename>lynx.out`) as a starting point for the calibration. This pattern of reading in previous outputs is useful for speeding up convergence in an iterative calibration workflow."
   ]
  },
  {
   "cell_type": "code",
   "execution_count": null,
   "id": "f5e92de5-0515-49c8-9ac1-d5b612c587e2",
   "metadata": {},
   "outputs": [],
   "source": [
    "# Then do a calibration of the full model with all params\n",
    "# Note use of chglist to read in previous .out files\n",
    "both = Script(cf, \"fullopt\", log, chglist=[(['hare', 'lynx'], '')])\n",
    "both.compile_script(vgpath, log, subdir='Full')"
   ]
  },
  {
   "cell_type": "markdown",
   "id": "0f01a3e8-983a-4a86-887f-5ce8e064728f",
   "metadata": {
    "tags": []
   },
   "source": [
    "#### 3. Run MCMC to get posterior parameter sample\n",
    "Once we have Powell optimisation results for parameter estimates (specifically, the `<basename>fullopt.out` file), we can feed those in to an MCMC estimation to get a sample of the joint posterior parameter distribution. You *could* run the MCMC estimation directly, especially for simple models, but for larger models it is usually much more computationally efficient to start the MCMC estimation from an already calibrated parameter set.\n",
    "\n",
    "The `downsample` function is used to take a random subsample of the MCMC posterior parameter sample to use in sensitivity analyses; the full MCMC sample will typically be far too large. It also creates a `vsc` file for sensitivity analysis to read in that subsample."
   ]
  },
  {
   "cell_type": "code",
   "execution_count": null,
   "id": "9e87477c-8569-418e-b5c5-dbb3cecea3a1",
   "metadata": {},
   "outputs": [],
   "source": [
    "# Then run MCMC, reading in full optimisation results\n",
    "mcmc = Script(cf, \"fullMC\", log, sfxs={'optparm': '_m'}, chglist=[('full', 'opt')])\n",
    "mcmc.compile_script(vgpath, log, subdir='Full')\n",
    "\n",
    "mcmc.downsample(samplefrac)  # Downsample MCMC result to get input for sensitivity"
   ]
  },
  {
   "cell_type": "markdown",
   "id": "e2c45a94-1e89-4589-b8c9-8464910758b1",
   "metadata": {
    "tags": []
   },
   "source": [
    "#### 4. Create additional files to run projections\n",
    "Making projections based on estimated parameters is a very common use case for a model. While exploratory analysis of projections can be done manually, it is often useful to automate the process. Doing so often requires supplemental files such as `cin` files to alter certain model characteristics (e.g. time bounds, switches, inputs), which can themselves be generated in an automated way.\n",
    "\n",
    "For projections to include uncertainty, we first need to create a modified version of the main `controlfile` with appropriate settings for sensitivity analysis (`senscf`). We also dynamically create a `cin` file that extends the time horizon of the model (in this case, by 10 time units). Doing this dynamically makes the workflow robust to e.g. future changes in the `FINAL TIME` of the model, which will make your life easier as your model evolves."
   ]
  },
  {
   "cell_type": "code",
   "execution_count": null,
   "id": "8f2066a4-1b65-4577-aedc-940590fc8f9e",
   "metadata": {},
   "outputs": [],
   "source": [
    "# Set up alternate control file for sensitivity runs\n",
    "senscf = cf.copy()  # Make a true separate copy\n",
    "senscf['simcontrol']['sensitivity'] = f\"{mcmc.runname}.vsc\"  # Specify sensitivity control file\n",
    "senscf['savecmd'] = 'SENS2FILE|!|!|T'  # Save full sensitivity output in Tidy format\n",
    "\n",
    "# Create CIN file for projections, extending final time by 10\n",
    "finaltime = get_value(cf['simcontrol']['model'], 'FINAL TIME')  # Dynamically read in final time\n",
    "with open('Projection.cin', 'w') as f:\n",
    "    f.write(f\"FINAL TIME = {finaltime + 10}\")  # Extend by 10 units for projections"
   ]
  },
  {
   "cell_type": "markdown",
   "id": "32dc71bf-2182-4ce9-bef4-425e43350bb7",
   "metadata": {
    "tags": []
   },
   "source": [
    "#### 5. Run basic projections & parametric sensitivity analysis\n",
    "When making projections, you will almost always want to start with a simple base case using the estimated parameters and no other changes. (Sometimes you may want multiple base cases with differing assumptions about key inputs.) Doing so provides a baseline against which effects of other changes can be compared.\n",
    "\n",
    "We do two runs here - a simple model run (as indicated by `simtype='r'`), followed by a sensitivity run (`simtype='s'`) that uses the previously derived MCMC subsample to generate uncertainty / credible intervals on the projections. We include `Projection.cin`, created in the previous step, in the `chglist`, in order to change the `FINAL TIME` of the model for these runs for projecting future model behaviour.\n",
    "\n",
    "Note that we use Vensim rather than Vengine for the simple model run (specifying `vengine=False` and using `vspath` instead of `vgpath`); for simple model runs, Vensim can often be faster, both because it's less buggy and because you can turn off compilation (which may not be worth the computational overhead for a simple run).\n",
    "\n",
    "We make several changes for the sensitivity run:\n",
    "- We use the previously defined `senscf` to create the `Script` instance; the modified control file has the necessary `cmd` commands for running sensitivity analysis instead of optimisation.\n",
    "- We also change `timelimit` from its global value of 60 to 300, as exporting sensitivity output can take a while and 60 seconds may be too little time. `vst` monitors Vengine closely to ensure nothing has bugged out, including checking periodically for activity (see main documentation for details). Setting `timelimit` too short can cause it to get trapped in an infinite loop if it thinks Vengine has bugged out when in reality it's legitimately just taking a while, e.g. for the large-file sensitivity export.\n",
    "- We specify different `check_funcs`, which are used to monitor Vengine for buggy output (see main documentation for details). The default `check_funcs` are intended for monitoring optimisation runs; `check_output` is appropriate for sensitivity runs.\n",
    "\n",
    "Note that this step will create some large exported `tab` files containing the full sensitivity analysis output (all 5000 runs) in the 'Projections' subdirectory."
   ]
  },
  {
   "cell_type": "code",
   "execution_count": null,
   "id": "671fd871-c98c-477f-9426-123dff5b1f4e",
   "metadata": {},
   "outputs": [],
   "source": [
    "# Do a simple projection using estimated parameters\n",
    "proj = Script(cf, \"projbase\", log, chglist=[('full', 'opt'), 'Projection.cin'], simtype='r')\n",
    "# Note use of Vensim rather than Vengine for simple run; in practice could use either\n",
    "proj.compile_script(vspath, log, subdir='Projections', vengine=False)\n",
    "\n",
    "# Then a sensitivity analysis using previous MCMC subsample\n",
    "sens = Script(senscf, \"sensbase\", log, chglist=[('full', 'opt'), 'Projection.cin'], simtype='s')\n",
    "sens.compile_script(vgpath, log, subdir='Projections', timelimit=300, check_funcs=[check_output])"
   ]
  },
  {
   "cell_type": "markdown",
   "id": "20559ae7-cc32-49c7-b274-7a92bf12f778",
   "metadata": {
    "tags": []
   },
   "source": [
    "#### 6. Run policy analysis w/ parametric sensitivity\n",
    "Finally, we can test the impact of different policies or scenarios on projected behaviour by making projections with additional model changes (e.g. `cin` files, such as `Hunting.cin` incorporated in the `chglist` here) to represent the effects of those policies. The outcomes (i.e. resultant projected behaviour) can then be compared against baseline projections to quantify the potential impacts of policies.\n",
    "\n",
    "`vst` does not currently include tools for post-processing and analysis of model outputs, but those are in the works!"
   ]
  },
  {
   "cell_type": "code",
   "execution_count": null,
   "id": "cfcde62c-0a18-4223-8883-311acedbdbff",
   "metadata": {},
   "outputs": [],
   "source": [
    "# Then read in a 'Hunting' policy scenario and project effects\n",
    "hunt = Script(cf, \"projhunt\", log, chglist=[('full', 'opt'), 'Projection.cin', 'Hunting.cin'], simtype='r')\n",
    "hunt.compile_script(vspath, log, subdir='Projections', vengine=False)\n",
    "\n",
    "# And conduct sensitivity analysis on 'Hunting' scenario with MCMC subsample\n",
    "shunt = Script(senscf, \"senshunt\", log, chglist=[('full', 'opt'), 'Projection.cin', 'Hunting.cin'], simtype='s')\n",
    "shunt.compile_script(vgpath, log, subdir='Projections', timelimit=300, check_funcs=[check_output])"
   ]
  },
  {
   "cell_type": "code",
   "execution_count": null,
   "id": "75d1c89f-89e2-4dc6-b751-49fa903d733d",
   "metadata": {},
   "outputs": [],
   "source": [
    "000000000000000000000000000000000000000000000000000000000000000000000000\n",
    "000000000000000000000000000000000000000000000000000000000000000000000000000000000000000000000000000"
   ]
  }
 ],
 "metadata": {
  "kernelspec": {
   "display_name": "Python 3 (ipykernel)",
   "language": "python",
   "name": "python3"
  },
  "language_info": {
   "codemirror_mode": {
    "name": "ipython",
    "version": 3
   },
   "file_extension": ".py",
   "mimetype": "text/x-python",
   "name": "python",
   "nbconvert_exporter": "python",
   "pygments_lexer": "ipython3",
   "version": "3.8.13"
  },
  "widgets": {
   "application/vnd.jupyter.widget-state+json": {
    "state": {},
    "version_major": 2,
    "version_minor": 0
   }
  }
 },
 "nbformat": 4,
 "nbformat_minor": 5
}
